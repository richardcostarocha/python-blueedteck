{
  "nbformat": 4,
  "nbformat_minor": 0,
  "metadata": {
    "colab": {
      "name": "AULA_04_Codelabs.ipynb",
      "provenance": [],
      "collapsed_sections": []
    },
    "kernelspec": {
      "name": "python3",
      "display_name": "Python 3"
    },
    "language_info": {
      "name": "python"
    }
  },
  "cells": [
    {
      "cell_type": "markdown",
      "metadata": {
        "id": "view-in-github"
      },
      "source": [
        "<a href=\"https://colab.research.google.com/github/paulosalvatore/Blue-Logica-Modulo1/blob/main/AULA_03_Codelabs.ipynb\" target=\"_parent\"><img src=\"https://colab.research.google.com/assets/colab-badge.svg\" alt=\"Open In Colab\"/></a>"
      ]
    },
    {
      "cell_type": "markdown",
      "metadata": {
        "id": "KS3Od_Tz5KA5"
      },
      "source": [
        "# **Exercício 1: E os 10% do garçom?**\n",
        "\n",
        "- Defina uma variável para o valor de uma refeição que custou R$ 42,54;\n",
        "\n",
        "- Defina uma variável para o valor da taxa de serviço que é de 10%;\n",
        "\n",
        "- Defina uma variável que calcula o valor total da conta e exiba-o no console.\n",
        "\n",
        "\n"
      ]
    },
    {
      "cell_type": "markdown",
      "metadata": {
        "id": "E2d3K949cE3a"
      },
      "source": [
        "# **Resolução - Exercício 1**"
      ]
    },
    {
      "cell_type": "code",
      "metadata": {
        "colab": {
          "base_uri": "https://localhost:8080/"
        },
        "id": "snf1WDM08MUl",
        "outputId": "e257b023-f386-4374-8cf1-595ce9607744"
      },
      "source": [
        "valor_refeicao = 42.54 # float\n",
        "valor_taxa = 10 # int\n",
        "\n",
        "resultado = valor_refeicao + valor_refeicao * (valor_taxa / 100) # float\n",
        "\n",
        "print(resultado)"
      ],
      "execution_count": null,
      "outputs": [
        {
          "output_type": "stream",
          "text": [
            "46.794\n"
          ],
          "name": "stdout"
        }
      ]
    },
    {
      "source": [
        "# **Como inserir o símbolo da moeda (R$) e deixar duas casas decimais?**\n",
        "\n",
        "Utilize a declaração `f string` para formatar o resultado.\n",
        "\n",
        "https://realpython.com/python-f-strings/#f-strings-a-new-and-improved-way-to-format-strings-in-python"
      ],
      "cell_type": "markdown",
      "metadata": {
        "id": "9k-RkiRQ8d0h"
      }
    },
    {
      "cell_type": "code",
      "metadata": {
        "colab": {
          "base_uri": "https://localhost:8080/"
        },
        "id": "q_o5QSAY8USe",
        "outputId": "bf703a8a-bf70-4350-e461-30475fab553d"
      },
      "source": [
        "# Exemplo\n",
        "print(f\"R$ {resultado:.2f}\")"
      ],
      "execution_count": null,
      "outputs": [
        {
          "output_type": "stream",
          "text": [
            "R$ 46.79\n"
          ],
          "name": "stdout"
        }
      ]
    },
    {
      "cell_type": "markdown",
      "metadata": {
        "id": "6-piG1A49dMU"
      },
      "source": [
        "# **Exercício 2: Qual o valor do troco?**\n",
        "\n",
        "---\n",
        "\n",
        "\n",
        "\n",
        "*   Defina uma variável para o valor de uma compra que custou R$100,98;\n",
        "\n",
        "*   Defina uma variável para o valor que o cliente pagou R$150,00;\n",
        "\n",
        "*   Defina uma variável que calcula o valor do troco e exiba-o no console com o valor final arredondado.\n",
        "\n",
        "\n",
        "\n",
        "\n"
      ]
    },
    {
      "cell_type": "markdown",
      "metadata": {
        "id": "Uzsmgh-6cPRK"
      },
      "source": [
        "# **Resolução - Exercício 2**"
      ]
    },
    {
      "cell_type": "code",
      "metadata": {
        "colab": {
          "base_uri": "https://localhost:8080/"
        },
        "id": "8coxWo1hWjNU",
        "outputId": "4d51350a-be89-4fbf-e86f-fdfa594b6278"
      },
      "source": [
        "valor_total = 100.98 # float\n",
        "valor_pago = 150.00 # float\n",
        "\n",
        "resultado = valor_pago - valor_total # float\n",
        "\n",
        "print(f\"R$ {resultado:.2f}\")"
      ],
      "execution_count": null,
      "outputs": [
        {
          "output_type": "stream",
          "text": [
            "R$ 49.02\n"
          ],
          "name": "stdout"
        }
      ]
    },
    {
      "cell_type": "markdown",
      "metadata": {
        "id": "rp74y1FnjWSV"
      },
      "source": [
        "# **Exercício 3: Você está na flor da idade?**\n",
        "\n",
        "\n",
        "*  Defina uma variável para o valor do ano do nascimento;\n",
        "*  Defina uma variável para o valor do ano atual;\n",
        "*  Defina uma variável que calcula o valor final da idade da pessoa;\n",
        "*  Exiba uma mensagem final dizendo a idade da pessoa e a mensagem \"Você está na flor da idade\"."
      ]
    },
    {
      "cell_type": "markdown",
      "metadata": {
        "id": "oVZXLo11cTha"
      },
      "source": [
        "# **Resolução - Exercício 3**"
      ]
    },
    {
      "cell_type": "code",
      "metadata": {
        "colab": {
          "base_uri": "https://localhost:8080/"
        },
        "id": "gI44Vpm9zMty",
        "outputId": "b530bb92-872c-4c6b-f7ab-8a0dd4beb8d1"
      },
      "source": [
        "ano_nascimento = 1991\n",
        "ano_atual = 2021\n",
        "\n",
        "idade = ano_atual - ano_nascimento\n",
        "\n",
        "print(\"Sua idade é:\", idade)\n",
        "print(\"Você está na flor da idade!!!\")"
      ],
      "execution_count": null,
      "outputs": [
        {
          "output_type": "stream",
          "text": [
            "Sua idade é: 30\n",
            "Você está na flor da idade!!!\n"
          ],
          "name": "stdout"
        }
      ]
    },
    {
      "cell_type": "markdown",
      "metadata": {
        "id": "J2TDQhfFXc88"
      },
      "source": [
        "# **Exercícios para treinar:**"
      ]
    },
    {
      "cell_type": "markdown",
      "metadata": {
        "id": "PAH0s3KLXh4k"
      },
      "source": [
        "1. **Frase na tela** - Implemente um programa que escreve na tela a frase \"O primeiro programa a gente nunca esquece!\".\n",
        "\n",
        "2. **Etiqueta** - Elabore um programa que escreve seu nome completo na primeira linha, seu endereço na segunda e o CEP e telefone na terceira.\n",
        "\n",
        "3. **Letra de música** - Faça um programa que mostre na tela uma letra de música que você gosta (proibido letras do Justin Bieber).\n",
        "\n",
        "4. **Tabela de notas** - Você foi contratado ou contratada por uma escola pra fazer o sistema de boletim dos alunos. Como primeiro passo, escreva um programa que produza a seguinte saída:\n",
        "```\n",
        "ALUNO (A)  NOTA\n",
        "=========  ====\n",
        "ALINE      9.0\n",
        "MÁRIO      DEZ\n",
        "SÉRGIO     4.5\n",
        "SHIRLEY    7.0\n",
        "```\n",
        "\n",
        "5. **Menu** - Elabore um programa que mostre o seguinte menu na tela:\n",
        "```\n",
        "Cadastro de Clientes\n",
        "0 - Fim\n",
        "1 - Inclui\n",
        "2 - Altera\n",
        "3 - Exclui\n",
        "4 - Consulta\n",
        "Digite uma opção: \n",
        "```\n",
        "Ao digitar um valor para a opção, o programa exibe qual opção foi escolhida.\n",
        "```\n",
        "Você escolheu a opção '0'.\n",
        "```\n",
        "\n",
        "6. **Calculadora de Dano** - Escreva um programa que receba dois valores digitados pelo usuário:\n",
        "  - Quantidade de vida de um monstro (entre 10 e 50);\n",
        "  - Valor do ataque do jogador por turno (entre 5 e 10);\n",
        "  - Baseado nos valores digitados, exiba a quantidade de turnos que o jogador irá demorar para conseguir derrotar o monstro.\n",
        "  - ```\n",
        "    O jogador irá derrotar o monstro em 8 turnos.\n",
        "    ```"
      ]
    },
    {
      "cell_type": "code",
      "metadata": {
        "colab": {
          "base_uri": "https://localhost:8080/"
        },
        "id": "DtkSUkE3X2kX",
        "outputId": "36bcf540-6422-4ef8-9cbb-5f2b41bf9960"
      },
      "source": [
        "# Exercício 1\n",
        "print(\"O primeiro programa a gente nunca esquece!\")"
      ],
      "execution_count": null,
      "outputs": [
        {
          "output_type": "stream",
          "text": [
            "O primeiro programa a gente nunca esquece!\n"
          ],
          "name": "stdout"
        }
      ]
    },
    {
      "cell_type": "code",
      "metadata": {
        "colab": {
          "base_uri": "https://localhost:8080/"
        },
        "id": "flsRnr2PYBGj",
        "outputId": "051948e8-2694-41b6-fb8a-815f53949b2d"
      },
      "source": [
        "# Exercício 2\n",
        "print(\"Maria Eduarda de Araújo Cardoso\")\n",
        "print(\"Rua das Carmélias, número 36\")\n",
        "print(\"CEP: 09422-341 Telefone: (11) 98745-4321\")\n"
      ],
      "execution_count": null,
      "outputs": [
        {
          "output_type": "stream",
          "text": [
            "Maria Eduarda de Araújo Cardoso\n",
            "Rua das Carmélias, número 36\n",
            "CEP: 09422-341 Telefone: (11) 98745-4321\n"
          ],
          "name": "stdout"
        }
      ]
    },
    {
      "cell_type": "code",
      "metadata": {
        "colab": {
          "base_uri": "https://localhost:8080/"
        },
        "id": "4ItGq3gWYr9O",
        "outputId": "bebc2ed3-6ba2-4b5a-a1be-2c00e9cdf317"
      },
      "source": [
        "# Exercício 3\n",
        "print(\"AMOR E FÉ \\n To aqui na sua frente meio bagunçado \\n Cheguei com o volume do som topado\\n Lembrei do rolê domingo passado\\n Aí 'cê' lembra bem, nada é impossível\\n Tudo é invisível\\n Pra quem só olha pra si\\n Não é bem assim\\n É coisa de outro nível\\n Eu me acho incrível quando 'cê' olha pra mim -  E gosto assim\\n Ta pra nascer um maloqueiro disposto a soltar o dedo só por causa dela\\n Ai eu penso o tempo inteiro e até bate o desespero, o que sou eu sem ela\\n Eu danço com a nossa fumaça, me abraça no conversível, segura minha mão\\n Até o radar tirou uma foto e se 'nóis' tivesse de moto, não pegava não\")"
      ],
      "execution_count": null,
      "outputs": [
        {
          "output_type": "stream",
          "text": [
            "AMOR E FÉ \n",
            " To aqui na sua frente meio bagunçado \n",
            " Cheguei com o volume do som topado\n",
            " Lembrei do rolê domingo passado\n",
            " Aí 'cê' lembra bem, nada é impossível\n",
            " Tudo é invisível\n",
            " Pra quem só olha pra si\n",
            " Não é bem assim\n",
            " É coisa de outro nível\n",
            " Eu me acho incrível quando 'cê' olha pra mim -  E gosto assim\n",
            " Ta pra nascer um maloqueiro disposto a soltar o dedo só por causa dela\n",
            " Ai eu penso o tempo inteiro e até bate o desespero, o que sou eu sem ela\n",
            " Eu danço com a nossa fumaça, me abraça no conversível, segura minha mão\n",
            " Até o radar tirou uma foto e se 'nóis' tivesse de moto, não pegava não\n"
          ],
          "name": "stdout"
        }
      ]
    },
    {
      "cell_type": "code",
      "metadata": {
        "colab": {
          "base_uri": "https://localhost:8080/"
        },
        "id": "zYTmPwID_Jc6",
        "outputId": "c5c96b52-a502-4901-c566-6002a98a473f"
      },
      "source": [
        "# Exercício 4\n",
        "print('ALUNO (A)  NOTA\\n=========  =====')\n",
        "print('ALINE      9.0')\n",
        "print('MÁRIO      DEZ')\n",
        "print('SÉRGIO     4.5')\n",
        "print('SHIRLEY    7.0')\n",
        "\n",
        "# Também é possível usar a formatação para ajustar o tamanho que os nomes ocupam na tela\n",
        "print('ALUNO (A)  NOTA\\n=========  =====')\n",
        "print(f'{\"ALINE\": <10} 9.0')\n",
        "print(f'{\"MÁRIO\": <10} DEZ')\n",
        "print(f'{\"SÉRGIO\": <10} 4.5')\n",
        "print(f'{\"SHIRLEY\": <10} 7.0')"
      ],
      "execution_count": null,
      "outputs": [
        {
          "output_type": "stream",
          "text": [
            "ALUNO (A)  NOTA\n",
            "=========  =====\n",
            "ALINE      9.0\n",
            "MÁRIO      DEZ\n",
            "SÉRGIO     4.5\n",
            "SHIRLEY    7.0\n",
            "ALUNO (A)  NOTA\n",
            "=========  =====\n",
            "ALINE      9.0\n",
            "MÁRIO      DEZ\n",
            "SÉRGIO     4.5\n",
            "SHIRLEY    7.0\n"
          ],
          "name": "stdout"
        }
      ]
    },
    {
      "cell_type": "code",
      "metadata": {
        "colab": {
          "base_uri": "https://localhost:8080/"
        },
        "id": "X0p2nEjv_Yq7",
        "outputId": "d654328c-c912-4994-de1b-b2e9f0e6dc3f"
      },
      "source": [
        "# Exercício 5\n",
        "print(\"Cadastro de Clientes\")\n",
        "print(\"0 - Fim\")\n",
        "print(\"1 - Inclui\")\n",
        "print(\"2 - Altera\")\n",
        "print(\"3 - Exclui\")\n",
        "print(\"4 - Consulta\")\n",
        "opcao = input(\"Opção: \")\n",
        "\n",
        "print(f\"Você escolheu a opção '{opcao}'.\")"
      ],
      "execution_count": null,
      "outputs": [
        {
          "output_type": "stream",
          "text": [
            "Cadastro de Clientes\n",
            "0 - Fim\n",
            "1 - Inclui\n",
            "2 - Altera\n",
            "3 - Exclui\n",
            "4 - Consulta\n",
            "Opção: 2\n",
            "Você escolheu a opção '2'.\n"
          ],
          "name": "stdout"
        }
      ]
    },
    {
      "cell_type": "code",
      "metadata": {
        "colab": {
          "base_uri": "https://localhost:8080/"
        },
        "id": "r4FBNfThZAmh",
        "outputId": "b6caf9f5-8fed-4412-98d2-5c051c3f6c89"
      },
      "source": [
        "# Exercício 6\n",
        "import math\n",
        "\n",
        "vida_monstro = int(input(\"Digite a quantidade de vida do monstro (entre 10 e 50): \"))\n",
        "ataque_jogador = int(input(\"Digite o valor de ataque do jogador (entre 5 e 10): \"))\n",
        "\n",
        "turnos_necessarios = math.ceil(vida_monstro / ataque_jogador)\n",
        "\n",
        "print(f\"O jogador irá precisar de {turnos_necessarios} turnos para derrotar o monstro.\")"
      ],
      "execution_count": null,
      "outputs": [
        {
          "output_type": "stream",
          "text": [
            "Digite a quantidade de vida do monstro (entre 10 e 50): 26\n",
            "Digite o valor de ataque do jogador (entre 5 e 10): 5\n",
            "O jogador irá precisar de 6 turnos para derrotar o monstro.\n"
          ],
          "name": "stdout"
        }
      ]
    }
  ]
}